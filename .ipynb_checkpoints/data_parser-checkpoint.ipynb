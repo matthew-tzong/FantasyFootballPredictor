{
 "cells": [
  {
   "cell_type": "code",
   "execution_count": null,
   "id": "88a7a551-0f04-4a09-9a6f-945d55d000a2",
   "metadata": {
    "tags": []
   },
   "outputs": [],
   "source": [
    "import os\n",
    "from bs4 import BeautifulSoup\n",
    "from playwright.async_api import async_playwright, TimeoutError as PlaywrightTimeout\n",
    "import time\n",
    "import nest_asyncio\n",
    "import asyncio\n",
    "\n",
    "# Apply nest_asyncio to allow nested event loops\n",
    "nest_asyncio.apply()"
   ]
  },
  {
   "cell_type": "code",
   "execution_count": null,
   "id": "b49390ff-8015-4771-a829-ab59a803d491",
   "metadata": {
    "tags": []
   },
   "outputs": [],
   "source": [
    "seasons = list(range(2014,2024))"
   ]
  },
  {
   "cell_type": "code",
   "execution_count": null,
   "id": "a7263b44-0900-45ad-b437-7c1fa5fe381f",
   "metadata": {
    "tags": []
   },
   "outputs": [],
   "source": [
    "dataDirectory = \"data\"\n",
    "standingsDirectory = os.path.join(dataDirectory, \"standings\")\n",
    "boxScoreDirectory = os.path.join(dataDirectory, \"scores\")"
   ]
  },
  {
   "cell_type": "code",
   "execution_count": null,
   "id": "ed86faa9-dc47-43f2-b2ee-456404ff5dee",
   "metadata": {
    "tags": []
   },
   "outputs": [],
   "source": [
    "async def getHTMLData(url, selector, sleep=5, retries=3):\n",
    "    html = None\n",
    "    for i in range(retries):\n",
    "        time.sleep(sleep * i)\n",
    "        try:\n",
    "            async with async_playwright() as p:\n",
    "                browser = await p.chromium.launch()\n",
    "                page = await browser.new_page()\n",
    "                await page.goto(url)\n",
    "                print(await page.title())\n",
    "                html = await page.html()\n",
    "        except PlaywrightTimeout:\n",
    "            print(f\"Timeout Error on {url}\")\n",
    "            continue\n",
    "        else:\n",
    "            break\n",
    "    return html"
   ]
  },
  {
   "cell_type": "code",
   "execution_count": null,
   "id": "ddcced80-b878-43b2-8e9e-542dfd7d8346",
   "metadata": {
    "tags": []
   },
   "outputs": [],
   "source": [
    "season = 2014\n",
    "url = f\"https://www.basketball-reference.com/leagues/NBA_{season}_games.html\""
   ]
  },
  {
   "cell_type": "code",
   "execution_count": null,
   "id": "f2c62eb7-865d-4e2e-b7a3-a53563f229d1",
   "metadata": {
    "tags": []
   },
   "outputs": [],
   "source": [
    "html = await getHTMLData(url, \"#content .filter\")"
   ]
  }
 ],
 "metadata": {
  "kernelspec": {
   "display_name": "Python 3 (ipykernel)",
   "language": "python",
   "name": "python3"
  },
  "language_info": {
   "codemirror_mode": {
    "name": "ipython",
    "version": 3
   },
   "file_extension": ".py",
   "mimetype": "text/x-python",
   "name": "python",
   "nbconvert_exporter": "python",
   "pygments_lexer": "ipython3",
   "version": "3.11.5"
  }
 },
 "nbformat": 4,
 "nbformat_minor": 5
}
